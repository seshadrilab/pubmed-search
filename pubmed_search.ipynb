{
  "cells": [
    {
      "cell_type": "markdown",
      "metadata": {
        "id": "__aix7GpnZHn"
      },
      "source": [
        "# Instructions\n",
        "\n",
        "This notebook takes an excel file of authors and their institutions and searches PubMed for tuberculosis-related papers from those authors published during a user-specified date range. Output is a semicolon-separated list of PubMed IDs which can be pasted directly into the PubMed search box to get a page listing those papers.\n",
        "\n",
        "1. **Upload \"20231114_SEATRAC_Member_PubSearch.xlsx\"**:\n",
        "    * Click the folder symbol on the left, then the upload symbol. If you get a warning about saving elsewhere click \"ok\".\n",
        "    * If you're using a newer version ensure these columns still exist: 'Last Name', 'First Name', 'Middle Initial', 'Primary Institution (Choose ONE)'\n",
        "2. **Update the search dates**:\n",
        "    * In the \"Inputs\" code box below, edit the text within quotes\n",
        "    * Click the play button to run this chunk of code, saving the inputs\n",
        "3. **Do the search**:\n",
        "    * Click the play button of the 'Do PubMed Search' code box (should take 1-2min to finish, output is at the bottom)\n",
        "\n",
        "#### Extra info:\n",
        "\n",
        "* PubMed API (NCBI Entrez E-utilities) help: https://www.ncbi.nlm.nih.gov/books/NBK25497/#chapter2.Introduction\n",
        "* More help: https://pubmed.ncbi.nlm.nih.gov/help/\n",
        "* List of PubMed \"tags\": https://www.ncbi.nlm.nih.gov/pmc/about/userguide/"
      ]
    },
    {
      "cell_type": "markdown",
      "metadata": {
        "id": "VzU-P2qBnZHq"
      },
      "source": [
        "# Inputs\n",
        "\n",
        "Click the play button on the left after updating these. Be sure to use full double-digit numbers for the day and month."
      ]
    },
    {
      "cell_type": "code",
      "execution_count": 47,
      "metadata": {
        "id": "ZN7S8m6DnZHr"
      },
      "outputs": [],
      "source": [
        "start_date = '2024/04/01'\n",
        "end_date = '2024/06/30'\n",
        "\n",
        "excel_file = '/content/20231114_SEATRAC_Member_PubSearch.xlsx'"
      ]
    },
    {
      "cell_type": "markdown",
      "metadata": {
        "id": "nMBOz0G-nZHs"
      },
      "source": [
        "# Do PubMed Search"
      ]
    },
    {
      "cell_type": "code",
      "execution_count": 51,
      "metadata": {
        "colab": {
          "base_uri": "https://localhost:8080/"
        },
        "id": "P4xx1NkpnZHt",
        "outputId": "3c743a8e-e790-446c-e84b-e92245cb9c44"
      },
      "outputs": [
        {
          "output_type": "stream",
          "name": "stdout",
          "text": [
            "Loading packages and data\n",
            "Formatting affiliations and concepts\n",
            "Formatting author names\n",
            "Doing PubMed search\n",
            "Done!\n",
            "\n",
            "PubMed IDs of papers from SEATRAC authors published between 2024/04/01 and 2024/06/30:\n",
            "\n",
            "38668542;38617280;38716731;38966641;39007063;38568690;38904070;38528148;38890283;38658786;39022779;38529729;38723342;39022782;38625902\n"
          ]
        }
      ],
      "source": [
        "#########\n",
        "# Setup #\n",
        "#########\n",
        "\n",
        "print('Loading packages and data')\n",
        "\n",
        "from bs4 import BeautifulSoup\n",
        "import requests\n",
        "import pandas as pd\n",
        "\n",
        "# Create URL retrieving a maximum of 10,000 records (retmax)\n",
        "# You can include your ncbi API key '&api_key=XXXX'\n",
        "prefix = 'https://eutils.ncbi.nlm.nih.gov/entrez/eutils/esearch.fcgi?db=pubmed&retmax=10000&usehistory=y&term='\n",
        "\n",
        "# Load input excel sheet\n",
        "seatrac_df = pd.read_excel(excel_file)\n",
        "\n",
        "# Clean up leading and trailing whitespace from columns where item is a string (not NaN)\n",
        "seatrac_df = seatrac_df.map(lambda x: x.strip() if isinstance(x, str) else x)\n",
        "\n",
        "####################################\n",
        "# Format affiliations and concepts #\n",
        "####################################\n",
        "\n",
        "print('Formatting affiliations and concepts')\n",
        "\n",
        "affiliations_list = seatrac_df['Primary Institution (Choose ONE)'].drop_duplicates().tolist()\n",
        "affiliations = '(\"' + '\"[ad] OR \"'.join(affiliations_list) + '\")'\n",
        "\n",
        "concept = '(\"tubercul*\"[tw] OR \"Antitubercul*\"[tw] OR \"Anti-Tubercul*\"[tw] OR \"osteotubercul*\"[tw] OR \"nephrotubercul*\"[tw] OR \"anthracosilicotubercul*\"[tw] OR \"coniotubercul*\"[tw] OR \"Tuberculin\"[tw] OR \"tb\"[tw] OR \"xdr-tb\"[tw] OR \"xdrtb\"[tw] OR \"mdr-tb\"[tw] OR \"mdrtb\"[tw] OR \"phthisis\"[tw] OR \"pneumonophthisis\"[tw] OR \"pneumophthisiology\"[tw] OR \"silicotubercul*\"[tw] OR \"bazin disease\"[tw] OR \"erythema induratum\"[tw] OR \"white swelling\"[tw] OR \"king`s evil\"[tw] OR \"scrofula\"[tw] OR \"pott disease\"[tw] OR \"koch`s disease\"[tw] OR \"Interferon-gamma Release Test\"[tw] OR \"Tuberculosis\"[Mesh] OR \"Mycobacterium tuberculosis\"[Mesh] OR \"Antitubercular Agents\"[Mesh] OR \"Tuberculin Test\"[Mesh] OR \"Interferon-gamma Release Tests\"[Mesh] OR \"Tuberculosis Vaccines\"[Mesh])'\n",
        "concept_list = concept.\\\n",
        "    replace('[Mesh]', '[mh]').\\\n",
        "    split(' OR ')\n",
        "concepts = ' OR '.join(concept_list)\n",
        "\n",
        "#######################\n",
        "# Format author names #\n",
        "#######################\n",
        "\n",
        "print('Formatting author names')\n",
        "\n",
        "# Create new columns with e.g. \"Ross J\"[au] and \"Ross JM\"[au]\n",
        "seatrac_df['LastFirst'] = '\"' + seatrac_df['Last Name'] + ' ' + seatrac_df['First Name'].str[0] + '\"' + '[au]'\n",
        "seatrac_df['LastFirstMiddle'] = '\"' + seatrac_df['Last Name'] + ' ' + seatrac_df['First Name'].str[0] + ' ' + seatrac_df['Middle Initial'].str[0] + '\"' + '[au]'\n",
        "\n",
        "# Combine new columns and format for pubmed\n",
        "authors_list = seatrac_df['LastFirst'].dropna().to_list() + seatrac_df['LastFirstMiddle'].dropna().to_list()\n",
        "\n",
        "#############\n",
        "# Do search #\n",
        "#############\n",
        "\n",
        "print('Doing PubMed search')\n",
        "\n",
        "def do_search(author_dat):\n",
        "    '''\n",
        "    Search two institutions at a time to keep URL from being too long.\n",
        "    '''\n",
        "    big_id_set = set()\n",
        "    for i in range(0, len(affiliations_list), 2):\n",
        "        affil_list = affiliations_list[i:i+2]\n",
        "        affil = '(\"' + '\"[ad] OR \"'.join(affil_list) + '\")'\n",
        "        date_range = start_date + ':' + end_date + '[pdat]'\n",
        "        url = prefix + date_range + '+AND+' + affil + '+AND+' + author_dat + '+AND+' + concepts\n",
        "        page = requests.get(url).text\n",
        "        result = BeautifulSoup(page, 'xml')\n",
        "        IDlist = set([i.text for i in result.find_all('Id')])\n",
        "        big_id_set = big_id_set.union(IDlist)\n",
        "    return big_id_set\n",
        "\n",
        "# Get number to cut author list in half (to search in sections to keep URL short)\n",
        "half_authors_cutoff = int(len(authors_list)/2)\n",
        "\n",
        "# First half\n",
        "authors1 = '(' + ' OR '.join(authors_list[:half_authors_cutoff]) + ')'\n",
        "id_set1 = do_search(authors1)\n",
        "\n",
        "# Second half\n",
        "authors2 = '(' + ' OR '.join(authors_list[half_authors_cutoff:]) + ')'\n",
        "id_set2 = do_search(authors2)\n",
        "\n",
        "out = ';'.join(id_set1.union(id_set2))\n",
        "\n",
        "print('Done!\\n')\n",
        "print(f'PubMed IDs of papers from SEATRAC authors published between {start_date} and {end_date}:\\n')\n",
        "print(out)"
      ]
    }
  ],
  "metadata": {
    "colab": {
      "provenance": []
    },
    "kernelspec": {
      "display_name": "base",
      "language": "python",
      "name": "python3"
    },
    "language_info": {
      "codemirror_mode": {
        "name": "ipython",
        "version": 3
      },
      "file_extension": ".py",
      "mimetype": "text/x-python",
      "name": "python",
      "nbconvert_exporter": "python",
      "pygments_lexer": "ipython3",
      "version": "3.9.7"
    }
  },
  "nbformat": 4,
  "nbformat_minor": 0
}